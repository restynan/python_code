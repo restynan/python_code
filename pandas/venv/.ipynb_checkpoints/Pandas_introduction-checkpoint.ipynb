{
 "cells": [
  {
   "cell_type": "code",
   "execution_count": 1,
   "id": "b1a44bb3-4c73-4b53-b54b-d006017e7458",
   "metadata": {},
   "outputs": [],
   "source": [
    "import pandas as pd"
   ]
  },
  {
   "cell_type": "code",
   "execution_count": 2,
   "id": "f6ff1764-3ebe-476b-b3d3-5985bcb10d6f",
   "metadata": {},
   "outputs": [
    {
     "data": {
      "text/html": [
       "<div>\n",
       "<style scoped>\n",
       "    .dataframe tbody tr th:only-of-type {\n",
       "        vertical-align: middle;\n",
       "    }\n",
       "\n",
       "    .dataframe tbody tr th {\n",
       "        vertical-align: top;\n",
       "    }\n",
       "\n",
       "    .dataframe thead th {\n",
       "        text-align: right;\n",
       "    }\n",
       "</style>\n",
       "<table border=\"1\" class=\"dataframe\">\n",
       "  <thead>\n",
       "    <tr style=\"text-align: right;\">\n",
       "      <th></th>\n",
       "      <th>Location</th>\n",
       "      <th>Date_Time</th>\n",
       "      <th>Temperature_C</th>\n",
       "      <th>Humidity_pct</th>\n",
       "      <th>Precipitation_mm</th>\n",
       "      <th>Wind_Speed_kmh</th>\n",
       "    </tr>\n",
       "  </thead>\n",
       "  <tbody>\n",
       "    <tr>\n",
       "      <th>0</th>\n",
       "      <td>San Diego</td>\n",
       "      <td>2024-01-14 21:12:46</td>\n",
       "      <td>10.683001</td>\n",
       "      <td>41.195754</td>\n",
       "      <td>4.020119</td>\n",
       "      <td>8.233540</td>\n",
       "    </tr>\n",
       "    <tr>\n",
       "      <th>1</th>\n",
       "      <td>San Diego</td>\n",
       "      <td>2024-05-17 15:22:10</td>\n",
       "      <td>8.734140</td>\n",
       "      <td>58.319107</td>\n",
       "      <td>9.111623</td>\n",
       "      <td>27.715161</td>\n",
       "    </tr>\n",
       "    <tr>\n",
       "      <th>2</th>\n",
       "      <td>San Diego</td>\n",
       "      <td>2024-05-11 09:30:59</td>\n",
       "      <td>11.632436</td>\n",
       "      <td>38.820175</td>\n",
       "      <td>4.607511</td>\n",
       "      <td>28.732951</td>\n",
       "    </tr>\n",
       "    <tr>\n",
       "      <th>3</th>\n",
       "      <td>Philadelphia</td>\n",
       "      <td>2024-02-26 17:32:39</td>\n",
       "      <td>-8.628976</td>\n",
       "      <td>54.074474</td>\n",
       "      <td>3.183720</td>\n",
       "      <td>26.367303</td>\n",
       "    </tr>\n",
       "    <tr>\n",
       "      <th>4</th>\n",
       "      <td>San Antonio</td>\n",
       "      <td>2024-04-29 13:23:51</td>\n",
       "      <td>39.808213</td>\n",
       "      <td>72.899908</td>\n",
       "      <td>9.598282</td>\n",
       "      <td>29.898622</td>\n",
       "    </tr>\n",
       "    <tr>\n",
       "      <th>...</th>\n",
       "      <td>...</td>\n",
       "      <td>...</td>\n",
       "      <td>...</td>\n",
       "      <td>...</td>\n",
       "      <td>...</td>\n",
       "      <td>...</td>\n",
       "    </tr>\n",
       "    <tr>\n",
       "      <th>999995</th>\n",
       "      <td>Dallas</td>\n",
       "      <td>2024-01-01 20:29:48</td>\n",
       "      <td>23.416877</td>\n",
       "      <td>37.705024</td>\n",
       "      <td>3.819833</td>\n",
       "      <td>16.538119</td>\n",
       "    </tr>\n",
       "    <tr>\n",
       "      <th>999996</th>\n",
       "      <td>San Antonio</td>\n",
       "      <td>2024-01-20 15:59:48</td>\n",
       "      <td>6.759080</td>\n",
       "      <td>40.731036</td>\n",
       "      <td>8.182785</td>\n",
       "      <td>29.005558</td>\n",
       "    </tr>\n",
       "    <tr>\n",
       "      <th>999997</th>\n",
       "      <td>New York</td>\n",
       "      <td>2024-04-14 08:30:09</td>\n",
       "      <td>15.664465</td>\n",
       "      <td>62.201884</td>\n",
       "      <td>3.987558</td>\n",
       "      <td>0.403909</td>\n",
       "    </tr>\n",
       "    <tr>\n",
       "      <th>999998</th>\n",
       "      <td>Chicago</td>\n",
       "      <td>2024-05-12 20:10:43</td>\n",
       "      <td>18.999994</td>\n",
       "      <td>63.703245</td>\n",
       "      <td>4.294325</td>\n",
       "      <td>6.326036</td>\n",
       "    </tr>\n",
       "    <tr>\n",
       "      <th>999999</th>\n",
       "      <td>New York</td>\n",
       "      <td>2024-04-16 16:11:52</td>\n",
       "      <td>10.725351</td>\n",
       "      <td>43.804584</td>\n",
       "      <td>1.883292</td>\n",
       "      <td>15.363828</td>\n",
       "    </tr>\n",
       "  </tbody>\n",
       "</table>\n",
       "<p>1000000 rows × 6 columns</p>\n",
       "</div>"
      ],
      "text/plain": [
       "            Location            Date_Time  Temperature_C  Humidity_pct  \\\n",
       "0          San Diego  2024-01-14 21:12:46      10.683001     41.195754   \n",
       "1          San Diego  2024-05-17 15:22:10       8.734140     58.319107   \n",
       "2          San Diego  2024-05-11 09:30:59      11.632436     38.820175   \n",
       "3       Philadelphia  2024-02-26 17:32:39      -8.628976     54.074474   \n",
       "4        San Antonio  2024-04-29 13:23:51      39.808213     72.899908   \n",
       "...              ...                  ...            ...           ...   \n",
       "999995        Dallas  2024-01-01 20:29:48      23.416877     37.705024   \n",
       "999996   San Antonio  2024-01-20 15:59:48       6.759080     40.731036   \n",
       "999997      New York  2024-04-14 08:30:09      15.664465     62.201884   \n",
       "999998       Chicago  2024-05-12 20:10:43      18.999994     63.703245   \n",
       "999999      New York  2024-04-16 16:11:52      10.725351     43.804584   \n",
       "\n",
       "        Precipitation_mm  Wind_Speed_kmh  \n",
       "0               4.020119        8.233540  \n",
       "1               9.111623       27.715161  \n",
       "2               4.607511       28.732951  \n",
       "3               3.183720       26.367303  \n",
       "4               9.598282       29.898622  \n",
       "...                  ...             ...  \n",
       "999995          3.819833       16.538119  \n",
       "999996          8.182785       29.005558  \n",
       "999997          3.987558        0.403909  \n",
       "999998          4.294325        6.326036  \n",
       "999999          1.883292       15.363828  \n",
       "\n",
       "[1000000 rows x 6 columns]"
      ]
     },
     "execution_count": 2,
     "metadata": {},
     "output_type": "execute_result"
    }
   ],
   "source": [
    "df = pd.read_csv('/Users/restynasimbwa/python/pandas/weather_data 2.csv')\n",
    "df"
   ]
  },
  {
   "cell_type": "code",
   "execution_count": 4,
   "id": "8e65e78c-4d2b-4fca-b750-e7481024133f",
   "metadata": {},
   "outputs": [
    {
     "data": {
      "text/plain": [
       "39.99980055990208"
      ]
     },
     "execution_count": 4,
     "metadata": {},
     "output_type": "execute_result"
    }
   ],
   "source": [
    "df['Temperature_C'].max()"
   ]
  },
  {
   "cell_type": "code",
   "execution_count": 5,
   "id": "08d633cd-1e8e-4b10-b56c-83607c0241e4",
   "metadata": {},
   "outputs": [
    {
     "data": {
      "text/plain": [
       "14.997598129281672"
      ]
     },
     "execution_count": 5,
     "metadata": {},
     "output_type": "execute_result"
    }
   ],
   "source": [
    "df['Wind_Speed_kmh'].mean()"
   ]
  },
  {
   "cell_type": "code",
   "execution_count": 6,
   "id": "2ff144be-107b-4ce6-97a2-1ae987fd87c2",
   "metadata": {},
   "outputs": [
    {
     "data": {
      "text/plain": [
       "14.997598129281672"
      ]
     },
     "execution_count": 6,
     "metadata": {},
     "output_type": "execute_result"
    }
   ],
   "source": [
    "df.fillna(0, inplace=True)\n",
    "df['Wind_Speed_kmh'].mean()"
   ]
  },
  {
   "cell_type": "code",
   "execution_count": null,
   "id": "d716b93a-2d78-428e-b68c-5ef1d79d33a0",
   "metadata": {},
   "outputs": [],
   "source": []
  }
 ],
 "metadata": {
  "kernelspec": {
   "display_name": "Python 3 (ipykernel)",
   "language": "python",
   "name": "python3"
  },
  "language_info": {
   "codemirror_mode": {
    "name": "ipython",
    "version": 3
   },
   "file_extension": ".py",
   "mimetype": "text/x-python",
   "name": "python",
   "nbconvert_exporter": "python",
   "pygments_lexer": "ipython3",
   "version": "3.12.0"
  }
 },
 "nbformat": 4,
 "nbformat_minor": 5
}
